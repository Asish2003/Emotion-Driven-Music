{
 "cells": [
  {
   "cell_type": "code",
   "execution_count": null,
   "id": "6b55323f",
   "metadata": {},
   "outputs": [],
   "source": [
    "import cv2\n",
    "import tensorflow as tf\n",
    "from deepface import DeepFace\n",
    "import requests\n",
    "\n",
    "def send_emotion_to_backend(emotion):\n",
    "    try:\n",
    "        response = requests.post(\"http://localhost:5000/emotion\", json={\"emotion\": emotion})\n",
    "        response.raise_for_status() \n",
    "        if response.text:\n",
    "            print(\"Songs:\", response.json())\n",
    "        else:\n",
    "            print(\"Empty response from backend\")\n",
    "    except Exception as e:\n",
    "        print(\"Error sending emotion to backend:\", e)\n",
    "\n",
    "count = 0\n",
    "cap=cv2.VideoCapture(0)\n",
    "while True:\n",
    "    ret, frame = cap.read()\n",
    "    if not ret:\n",
    "        break\n",
    "    \n",
    "    try :\n",
    "        analysis = DeepFace.analyze(frame, actions=['emotion'], enforce_detection=False,detector_backend='retinaface')\n",
    "        emotion = analysis[0]['dominant_emotion']\n",
    "        print(\"Detected Emotion:\", emotion)\n",
    "\n",
    "        send_emotion_to_backend(emotion)\n",
    "    \n",
    "    except Exception as e:\n",
    "        print(\"Error:\", e)\n",
    "\n",
    "    cv2.imshow(\"Video\", frame)\n",
    "    if cv2.waitKey(1) & 0xFF == ord('q'):\n",
    "        break\n",
    "    if count == 10:\n",
    "        break\n",
    "    count += 1\n",
    "cap.release()\n",
    "cv2.destroyAllWindows()\n"
   ]
  },
  {
   "cell_type": "code",
   "execution_count": 1,
   "id": "62ed26ab",
   "metadata": {},
   "outputs": [
    {
     "name": "stdout",
     "output_type": "stream",
     "text": [
      "Num GPUs Available: 1\n"
     ]
    }
   ],
   "source": [
    "import tensorflow as tf\n",
    "print(\"Num GPUs Available:\", len(tf.config.list_physical_devices('GPU')))\n"
   ]
  }
 ],
 "metadata": {
  "kernelspec": {
   "display_name": "venv",
   "language": "python",
   "name": "python3"
  },
  "language_info": {
   "codemirror_mode": {
    "name": "ipython",
    "version": 3
   },
   "file_extension": ".py",
   "mimetype": "text/x-python",
   "name": "python",
   "nbconvert_exporter": "python",
   "pygments_lexer": "ipython3",
   "version": "3.10.11"
  }
 },
 "nbformat": 4,
 "nbformat_minor": 5
}
