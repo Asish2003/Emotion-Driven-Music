{
 "cells": [
  {
   "cell_type": "code",
   "execution_count": null,
   "metadata": {},
   "outputs": [
    {
     "name": "stdout",
     "output_type": "stream",
     "text": [
      "Detected Emotion: neutral\n",
      "Songs: [{'name': 'Chillanjirukkiye (From \"Lubber Pandhu\")', 'artist': 'Sean Roldan', 'url': 'https://open.spotify.com/track/3jixbQHg5vDuZRNqzordcI'}, {'name': 'Chillax', 'artist': 'Vijay Antony', 'url': 'https://open.spotify.com/track/3EPxiSj3RsjMMdKCM7pthV'}, {'name': 'Chilam Ke Sutte', 'artist': 'Harsh Gahlot', 'url': 'https://open.spotify.com/track/20baVBERL9C0LWLZtTZojc'}, {'name': 'Chillanjirukkiye', 'artist': 'Sean Roldan', 'url': 'https://open.spotify.com/track/2g9aiiRu6dteue5VD4DoOF'}]\n",
      "Detected Emotion: neutral\n",
      "Songs: [{'name': 'Chillanjirukkiye (From \"Lubber Pandhu\")', 'artist': 'Sean Roldan', 'url': 'https://open.spotify.com/track/3jixbQHg5vDuZRNqzordcI'}, {'name': 'Chillax', 'artist': 'Vijay Antony', 'url': 'https://open.spotify.com/track/3EPxiSj3RsjMMdKCM7pthV'}, {'name': 'Chilam Ke Sutte', 'artist': 'Harsh Gahlot', 'url': 'https://open.spotify.com/track/20baVBERL9C0LWLZtTZojc'}, {'name': 'Chillanjirukkiye', 'artist': 'Sean Roldan', 'url': 'https://open.spotify.com/track/2g9aiiRu6dteue5VD4DoOF'}]\n",
      "Detected Emotion: neutral\n",
      "Songs: [{'name': 'Chillanjirukkiye (From \"Lubber Pandhu\")', 'artist': 'Sean Roldan', 'url': 'https://open.spotify.com/track/3jixbQHg5vDuZRNqzordcI'}, {'name': 'Chillax', 'artist': 'Vijay Antony', 'url': 'https://open.spotify.com/track/3EPxiSj3RsjMMdKCM7pthV'}, {'name': 'Chilam Ke Sutte', 'artist': 'Harsh Gahlot', 'url': 'https://open.spotify.com/track/20baVBERL9C0LWLZtTZojc'}, {'name': 'Chillanjirukkiye', 'artist': 'Sean Roldan', 'url': 'https://open.spotify.com/track/2g9aiiRu6dteue5VD4DoOF'}]\n",
      "Detected Emotion: neutral\n",
      "Songs: [{'name': 'Chillanjirukkiye (From \"Lubber Pandhu\")', 'artist': 'Sean Roldan', 'url': 'https://open.spotify.com/track/3jixbQHg5vDuZRNqzordcI'}, {'name': 'Chillax', 'artist': 'Vijay Antony', 'url': 'https://open.spotify.com/track/3EPxiSj3RsjMMdKCM7pthV'}, {'name': 'Chilam Ke Sutte', 'artist': 'Harsh Gahlot', 'url': 'https://open.spotify.com/track/20baVBERL9C0LWLZtTZojc'}, {'name': 'Chillanjirukkiye', 'artist': 'Sean Roldan', 'url': 'https://open.spotify.com/track/2g9aiiRu6dteue5VD4DoOF'}]\n",
      "Detected Emotion: angry\n",
      "Songs: [{'name': 'rockstar (feat. 21 Savage)', 'artist': 'Post Malone', 'url': 'https://open.spotify.com/track/0e7ipj03S05BNilyu5bRzt'}, {'name': 'Rockstar', 'artist': 'LISA', 'url': 'https://open.spotify.com/track/6vvPecFTmWxDfEJ6cYT1wa'}, {'name': 'Rockaankuthu', 'artist': 'Anirudh Ravichander', 'url': 'https://open.spotify.com/track/0cFVwgambRzeYaYxOXW4IU'}, {'name': 'Rockabye (feat. Sean Paul & Anne-Marie)', 'artist': 'Clean Bandit', 'url': 'https://open.spotify.com/track/3fvY2U1AzW0diYF0hnBbKt'}]\n",
      "Detected Emotion: neutral\n",
      "Songs: [{'name': 'Chillanjirukkiye (From \"Lubber Pandhu\")', 'artist': 'Sean Roldan', 'url': 'https://open.spotify.com/track/3jixbQHg5vDuZRNqzordcI'}, {'name': 'Chillax', 'artist': 'Vijay Antony', 'url': 'https://open.spotify.com/track/3EPxiSj3RsjMMdKCM7pthV'}, {'name': 'Chilam Ke Sutte', 'artist': 'Harsh Gahlot', 'url': 'https://open.spotify.com/track/20baVBERL9C0LWLZtTZojc'}, {'name': 'Chillanjirukkiye', 'artist': 'Sean Roldan', 'url': 'https://open.spotify.com/track/2g9aiiRu6dteue5VD4DoOF'}]\n",
      "Detected Emotion: angry\n",
      "Songs: [{'name': 'rockstar (feat. 21 Savage)', 'artist': 'Post Malone', 'url': 'https://open.spotify.com/track/0e7ipj03S05BNilyu5bRzt'}, {'name': 'Rockstar', 'artist': 'LISA', 'url': 'https://open.spotify.com/track/6vvPecFTmWxDfEJ6cYT1wa'}, {'name': 'Rockaankuthu', 'artist': 'Anirudh Ravichander', 'url': 'https://open.spotify.com/track/0cFVwgambRzeYaYxOXW4IU'}, {'name': 'Rockabye (feat. Sean Paul & Anne-Marie)', 'artist': 'Clean Bandit', 'url': 'https://open.spotify.com/track/3fvY2U1AzW0diYF0hnBbKt'}]\n",
      "Detected Emotion: neutral\n",
      "Songs: [{'name': 'Chillanjirukkiye (From \"Lubber Pandhu\")', 'artist': 'Sean Roldan', 'url': 'https://open.spotify.com/track/3jixbQHg5vDuZRNqzordcI'}, {'name': 'Chillax', 'artist': 'Vijay Antony', 'url': 'https://open.spotify.com/track/3EPxiSj3RsjMMdKCM7pthV'}, {'name': 'Chilam Ke Sutte', 'artist': 'Harsh Gahlot', 'url': 'https://open.spotify.com/track/20baVBERL9C0LWLZtTZojc'}, {'name': 'Chillanjirukkiye', 'artist': 'Sean Roldan', 'url': 'https://open.spotify.com/track/2g9aiiRu6dteue5VD4DoOF'}]\n",
      "Detected Emotion: neutral\n",
      "Songs: [{'name': 'Chillanjirukkiye (From \"Lubber Pandhu\")', 'artist': 'Sean Roldan', 'url': 'https://open.spotify.com/track/3jixbQHg5vDuZRNqzordcI'}, {'name': 'Chillax', 'artist': 'Vijay Antony', 'url': 'https://open.spotify.com/track/3EPxiSj3RsjMMdKCM7pthV'}, {'name': 'Chilam Ke Sutte', 'artist': 'Harsh Gahlot', 'url': 'https://open.spotify.com/track/20baVBERL9C0LWLZtTZojc'}, {'name': 'Chillanjirukkiye', 'artist': 'Sean Roldan', 'url': 'https://open.spotify.com/track/2g9aiiRu6dteue5VD4DoOF'}]\n",
      "Detected Emotion: neutral\n",
      "Songs: [{'name': 'Chillanjirukkiye (From \"Lubber Pandhu\")', 'artist': 'Sean Roldan', 'url': 'https://open.spotify.com/track/3jixbQHg5vDuZRNqzordcI'}, {'name': 'Chillax', 'artist': 'Vijay Antony', 'url': 'https://open.spotify.com/track/3EPxiSj3RsjMMdKCM7pthV'}, {'name': 'Chilam Ke Sutte', 'artist': 'Harsh Gahlot', 'url': 'https://open.spotify.com/track/20baVBERL9C0LWLZtTZojc'}, {'name': 'Chillanjirukkiye', 'artist': 'Sean Roldan', 'url': 'https://open.spotify.com/track/2g9aiiRu6dteue5VD4DoOF'}]\n",
      "Detected Emotion: neutral\n",
      "Songs: [{'name': 'Chillanjirukkiye (From \"Lubber Pandhu\")', 'artist': 'Sean Roldan', 'url': 'https://open.spotify.com/track/3jixbQHg5vDuZRNqzordcI'}, {'name': 'Chillax', 'artist': 'Vijay Antony', 'url': 'https://open.spotify.com/track/3EPxiSj3RsjMMdKCM7pthV'}, {'name': 'Chilam Ke Sutte', 'artist': 'Harsh Gahlot', 'url': 'https://open.spotify.com/track/20baVBERL9C0LWLZtTZojc'}, {'name': 'Chillanjirukkiye', 'artist': 'Sean Roldan', 'url': 'https://open.spotify.com/track/2g9aiiRu6dteue5VD4DoOF'}]\n",
      "Detected Emotion: neutral\n",
      "Songs: [{'name': 'Chillanjirukkiye (From \"Lubber Pandhu\")', 'artist': 'Sean Roldan', 'url': 'https://open.spotify.com/track/3jixbQHg5vDuZRNqzordcI'}, {'name': 'Chillax', 'artist': 'Vijay Antony', 'url': 'https://open.spotify.com/track/3EPxiSj3RsjMMdKCM7pthV'}, {'name': 'Chilam Ke Sutte', 'artist': 'Harsh Gahlot', 'url': 'https://open.spotify.com/track/20baVBERL9C0LWLZtTZojc'}, {'name': 'Chillanjirukkiye', 'artist': 'Sean Roldan', 'url': 'https://open.spotify.com/track/2g9aiiRu6dteue5VD4DoOF'}]\n",
      "Detected Emotion: neutral\n",
      "Songs: [{'name': 'Chillanjirukkiye (From \"Lubber Pandhu\")', 'artist': 'Sean Roldan', 'url': 'https://open.spotify.com/track/3jixbQHg5vDuZRNqzordcI'}, {'name': 'Chillax', 'artist': 'Vijay Antony', 'url': 'https://open.spotify.com/track/3EPxiSj3RsjMMdKCM7pthV'}, {'name': 'Chilam Ke Sutte', 'artist': 'Harsh Gahlot', 'url': 'https://open.spotify.com/track/20baVBERL9C0LWLZtTZojc'}, {'name': 'Chillanjirukkiye', 'artist': 'Sean Roldan', 'url': 'https://open.spotify.com/track/2g9aiiRu6dteue5VD4DoOF'}]\n",
      "Detected Emotion: neutral\n",
      "Songs: [{'name': 'Chillanjirukkiye (From \"Lubber Pandhu\")', 'artist': 'Sean Roldan', 'url': 'https://open.spotify.com/track/3jixbQHg5vDuZRNqzordcI'}, {'name': 'Chillax', 'artist': 'Vijay Antony', 'url': 'https://open.spotify.com/track/3EPxiSj3RsjMMdKCM7pthV'}, {'name': 'Chilam Ke Sutte', 'artist': 'Harsh Gahlot', 'url': 'https://open.spotify.com/track/20baVBERL9C0LWLZtTZojc'}, {'name': 'Chillanjirukkiye', 'artist': 'Sean Roldan', 'url': 'https://open.spotify.com/track/2g9aiiRu6dteue5VD4DoOF'}]\n",
      "Detected Emotion: neutral\n",
      "Songs: [{'name': 'Chillanjirukkiye (From \"Lubber Pandhu\")', 'artist': 'Sean Roldan', 'url': 'https://open.spotify.com/track/3jixbQHg5vDuZRNqzordcI'}, {'name': 'Chillax', 'artist': 'Vijay Antony', 'url': 'https://open.spotify.com/track/3EPxiSj3RsjMMdKCM7pthV'}, {'name': 'Chilam Ke Sutte', 'artist': 'Harsh Gahlot', 'url': 'https://open.spotify.com/track/20baVBERL9C0LWLZtTZojc'}, {'name': 'Chillanjirukkiye', 'artist': 'Sean Roldan', 'url': 'https://open.spotify.com/track/2g9aiiRu6dteue5VD4DoOF'}]\n",
      "Detected Emotion: neutral\n",
      "Songs: [{'name': 'Chillanjirukkiye (From \"Lubber Pandhu\")', 'artist': 'Sean Roldan', 'url': 'https://open.spotify.com/track/3jixbQHg5vDuZRNqzordcI'}, {'name': 'Chillax', 'artist': 'Vijay Antony', 'url': 'https://open.spotify.com/track/3EPxiSj3RsjMMdKCM7pthV'}, {'name': 'Chilam Ke Sutte', 'artist': 'Harsh Gahlot', 'url': 'https://open.spotify.com/track/20baVBERL9C0LWLZtTZojc'}, {'name': 'Chillanjirukkiye', 'artist': 'Sean Roldan', 'url': 'https://open.spotify.com/track/2g9aiiRu6dteue5VD4DoOF'}]\n",
      "Detected Emotion: neutral\n",
      "Songs: [{'name': 'Chillanjirukkiye (From \"Lubber Pandhu\")', 'artist': 'Sean Roldan', 'url': 'https://open.spotify.com/track/3jixbQHg5vDuZRNqzordcI'}, {'name': 'Chillax', 'artist': 'Vijay Antony', 'url': 'https://open.spotify.com/track/3EPxiSj3RsjMMdKCM7pthV'}, {'name': 'Chilam Ke Sutte', 'artist': 'Harsh Gahlot', 'url': 'https://open.spotify.com/track/20baVBERL9C0LWLZtTZojc'}, {'name': 'Chillanjirukkiye', 'artist': 'Sean Roldan', 'url': 'https://open.spotify.com/track/2g9aiiRu6dteue5VD4DoOF'}]\n",
      "Detected Emotion: neutral\n",
      "Songs: [{'name': 'Chillanjirukkiye (From \"Lubber Pandhu\")', 'artist': 'Sean Roldan', 'url': 'https://open.spotify.com/track/3jixbQHg5vDuZRNqzordcI'}, {'name': 'Chillax', 'artist': 'Vijay Antony', 'url': 'https://open.spotify.com/track/3EPxiSj3RsjMMdKCM7pthV'}, {'name': 'Chilam Ke Sutte', 'artist': 'Harsh Gahlot', 'url': 'https://open.spotify.com/track/20baVBERL9C0LWLZtTZojc'}, {'name': 'Chillanjirukkiye', 'artist': 'Sean Roldan', 'url': 'https://open.spotify.com/track/2g9aiiRu6dteue5VD4DoOF'}]\n"
     ]
    },
    {
     "ename": "KeyboardInterrupt",
     "evalue": "",
     "output_type": "error",
     "traceback": [
      "\u001b[1;31m---------------------------------------------------------------------------\u001b[0m",
      "\u001b[1;31mKeyboardInterrupt\u001b[0m                         Traceback (most recent call last)",
      "Cell \u001b[1;32mIn[4], line 20\u001b[0m\n\u001b[0;32m     18\u001b[0m cap\u001b[38;5;241m=\u001b[39mcv2\u001b[38;5;241m.\u001b[39mVideoCapture(\u001b[38;5;241m0\u001b[39m)\n\u001b[0;32m     19\u001b[0m \u001b[38;5;28;01mwhile\u001b[39;00m \u001b[38;5;28;01mTrue\u001b[39;00m:\n\u001b[1;32m---> 20\u001b[0m     ret, frame \u001b[38;5;241m=\u001b[39m \u001b[43mcap\u001b[49m\u001b[38;5;241;43m.\u001b[39;49m\u001b[43mread\u001b[49m\u001b[43m(\u001b[49m\u001b[43m)\u001b[49m\n\u001b[0;32m     21\u001b[0m     \u001b[38;5;28;01mif\u001b[39;00m \u001b[38;5;129;01mnot\u001b[39;00m ret:\n\u001b[0;32m     22\u001b[0m         \u001b[38;5;28;01mbreak\u001b[39;00m\n",
      "\u001b[1;31mKeyboardInterrupt\u001b[0m: "
     ]
    }
   ],
   "source": [
    "import cv2\n",
    "import tensorflow as tf\n",
    "from deepface import DeepFace\n",
    "import requests\n",
    "\n",
    "def send_emotion_to_backend(emotion):\n",
    "    try:\n",
    "        response = requests.post(\"http://localhost:5000/emotion\", json={\"emotion\": emotion})\n",
    "        response.raise_for_status() \n",
    "        if response.text:\n",
    "            print(\"Songs:\", response.json())\n",
    "        else:\n",
    "            print(\"Empty response from backend\")\n",
    "    except Exception as e:\n",
    "        print(\"Error sending emotion to backend:\", e)\n",
    "\n",
    "\n",
    "cap=cv2.VideoCapture(0)\n",
    "while True:\n",
    "    ret, frame = cap.read()\n",
    "    if not ret:\n",
    "        break\n",
    "    \n",
    "    try :\n",
    "        analysis = DeepFace.analyze(frame, actions=['emotion'], enforce_detection=False,detector_backend='retinaface')\n",
    "        emotion = analysis[0]['dominant_emotion']\n",
    "        print(\"Detected Emotion:\", emotion)\n",
    "\n",
    "        send_emotion_to_backend(emotion)\n",
    "    \n",
    "    except Exception as e:\n",
    "        print(\"Error:\", e)\n",
    "\n",
    "    cv2.imshow(\"Video\", frame)\n",
    "    if cv2.waitKey(1) & 0xFF == ord('q'):\n",
    "        break\n",
    "\n",
    "cap.release()\n",
    "cv2.destroyAllWindows()\n"
   ]
  },
  {
   "cell_type": "code",
   "execution_count": null,
   "metadata": {},
   "outputs": [
    {
     "name": "stdout",
     "output_type": "stream",
     "text": [
      "Num GPUs Available: 1\n"
     ]
    },
    {
     "ename": "",
     "evalue": "",
     "output_type": "error",
     "traceback": [
      "\u001b[1;31mThe Kernel crashed while executing code in the current cell or a previous cell. \n",
      "\u001b[1;31mPlease review the code in the cell(s) to identify a possible cause of the failure. \n",
      "\u001b[1;31mClick <a href='https://aka.ms/vscodeJupyterKernelCrash'>here</a> for more info. \n",
      "\u001b[1;31mView Jupyter <a href='command:jupyter.viewOutput'>log</a> for further details."
     ]
    }
   ],
   "source": [
    "import tensorflow as tf\n",
    "print(\"Num GPUs Available:\", len(tf.config.list_physical_devices('GPU')))\n"
   ]
  },
  {
   "cell_type": "code",
   "execution_count": 10,
   "metadata": {},
   "outputs": [
    {
     "ename": "ModuleNotFoundError",
     "evalue": "No module named 'moviepy.editor'",
     "output_type": "error",
     "traceback": [
      "\u001b[1;31m---------------------------------------------------------------------------\u001b[0m",
      "\u001b[1;31mModuleNotFoundError\u001b[0m                       Traceback (most recent call last)",
      "Cell \u001b[1;32mIn[10], line 1\u001b[0m\n\u001b[1;32m----> 1\u001b[0m \u001b[38;5;28;01mfrom\u001b[39;00m\u001b[38;5;250m \u001b[39m\u001b[38;5;21;01mmoviepy\u001b[39;00m\u001b[38;5;21;01m.\u001b[39;00m\u001b[38;5;21;01meditor\u001b[39;00m\u001b[38;5;250m \u001b[39m\u001b[38;5;28;01mimport\u001b[39;00m \u001b[38;5;241m*\u001b[39m\n\u001b[0;32m      2\u001b[0m \u001b[38;5;28mprint\u001b[39m(\u001b[38;5;124m\"\u001b[39m\u001b[38;5;124mmoviepy is working\u001b[39m\u001b[38;5;124m\"\u001b[39m)\n",
      "\u001b[1;31mModuleNotFoundError\u001b[0m: No module named 'moviepy.editor'"
     ]
    }
   ],
   "source": [
    "from moviepy.editor import *\n",
    "print(\"moviepy is working\")"
   ]
  }
 ],
 "metadata": {
  "kernelspec": {
   "display_name": "venv",
   "language": "python",
   "name": "python3"
  },
  "language_info": {
   "codemirror_mode": {
    "name": "ipython",
    "version": 3
   },
   "file_extension": ".py",
   "mimetype": "text/x-python",
   "name": "python",
   "nbconvert_exporter": "python",
   "pygments_lexer": "ipython3",
   "version": "3.10.11"
  }
 },
 "nbformat": 4,
 "nbformat_minor": 2
}
